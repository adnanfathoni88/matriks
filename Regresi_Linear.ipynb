{
  "nbformat": 4,
  "nbformat_minor": 0,
  "metadata": {
    "colab": {
      "provenance": [],
      "include_colab_link": true
    },
    "kernelspec": {
      "name": "python3",
      "display_name": "Python 3"
    },
    "language_info": {
      "name": "python"
    }
  },
  "cells": [
    {
      "cell_type": "markdown",
      "metadata": {
        "id": "view-in-github",
        "colab_type": "text"
      },
      "source": [
        "<a href=\"https://colab.research.google.com/github/adnanfathoni88/numerical_methods/blob/main/Regresi_Linear.ipynb\" target=\"_parent\"><img src=\"https://colab.research.google.com/assets/colab-badge.svg\" alt=\"Open In Colab\"/></a>"
      ]
    },
    {
      "cell_type": "markdown",
      "source": [
        "Nama : Adnan Fathoni <br>\n",
        "Nim : 24.21.1591 <br>\n",
        "\n",
        "https://colab.research.google.com/drive/17wAOplB5Y6itigXvYkC6m6qZFlJADoo5?usp=sharing\n",
        "\n",
        "\n"
      ],
      "metadata": {
        "id": "zhkCL1TNWZPA"
      }
    },
    {
      "cell_type": "code",
      "execution_count": null,
      "metadata": {
        "id": "45if7UAVQG1F"
      },
      "outputs": [],
      "source": [
        "import numpy as np\n",
        "import pandas as pd\n",
        "import matplotlib.pyplot as plt\n",
        "from sklearn.linear_model import LinearRegression"
      ]
    },
    {
      "cell_type": "markdown",
      "source": [
        "Menyiapkan Data"
      ],
      "metadata": {
        "id": "eMDb7zV6QjMJ"
      }
    },
    {
      "cell_type": "code",
      "source": [
        "# Data\n",
        "data = {\n",
        "    'Jumlah_Iklan': [1, 2, 3, 4, 5],\n",
        "    'Buku_Terjual': [5, 7, 7, 10, 16]\n",
        "}\n",
        "\n",
        "df = pd.DataFrame(data)"
      ],
      "metadata": {
        "id": "D6gQr2BIQawy"
      },
      "execution_count": null,
      "outputs": []
    },
    {
      "cell_type": "markdown",
      "source": [
        "hubungan/korelasi antara jumlah jam iklan dan buku yang terjual."
      ],
      "metadata": {
        "id": "chBpSgmHQx9h"
      }
    },
    {
      "cell_type": "code",
      "source": [
        "# Menghitung korelasi\n",
        "correlation = df['Jumlah_Iklan'].corr(df['Buku_Terjual'])\n",
        "print(f'Koefisien Korelasi: {correlation}')"
      ],
      "metadata": {
        "colab": {
          "base_uri": "https://localhost:8080/"
        },
        "id": "jPXgrIEdQ2Ia",
        "outputId": "8bf1c7fa-ede4-4a42-edce-4a53e89bf429"
      },
      "execution_count": null,
      "outputs": [
        {
          "output_type": "stream",
          "name": "stdout",
          "text": [
            "Koefisien Korelasi: 0.9190182776172596\n"
          ]
        }
      ]
    },
    {
      "cell_type": "markdown",
      "source": [
        "persamaan regresi linier (y = a + bx), dimana b adalah kemiringan\n",
        "(slope/koefisien regresi) dan a adalah intersept/konstanta."
      ],
      "metadata": {
        "id": "x828Y0BlReox"
      }
    },
    {
      "cell_type": "code",
      "source": [
        "x = df['Jumlah_Iklan']\n",
        "y = df['Buku_Terjual']\n",
        "n = len(x)\n",
        "\n",
        "x_mean = np.mean(x)\n",
        "y_mean = np.mean(y)\n",
        "\n",
        "# Menghitung kemiringan (slope)\n",
        "b = np.sum((x - x_mean) * (y - y_mean)) / np.sum((x - x_mean) ** 2)\n",
        "\n",
        "# Menghitung intersept\n",
        "a = y_mean - b * x_mean\n",
        "\n",
        "print(f'Persamaan Regresi: y = {a} + {b}x')"
      ],
      "metadata": {
        "colab": {
          "base_uri": "https://localhost:8080/"
        },
        "id": "sIA4tZFeRIia",
        "outputId": "dbefc8c1-8097-4231-d7e6-8631b770e1eb"
      },
      "execution_count": null,
      "outputs": [
        {
          "output_type": "stream",
          "name": "stdout",
          "text": [
            "Persamaan Regresi: y = 1.5 + 2.5x\n"
          ]
        }
      ]
    },
    {
      "cell_type": "markdown",
      "source": [
        "Prediksi berapa banyak buku yang akan terjual jika jam iklan diperpanjang menjadi 6\n",
        "jam."
      ],
      "metadata": {
        "id": "_d5762MgRZyh"
      }
    },
    {
      "cell_type": "code",
      "source": [
        "# Koefisien dari persamaan regresi\n",
        "a = 1.5  # Intersept\n",
        "b = 2.5  # Kemiringan\n",
        "\n",
        "# Jam iklan baru\n",
        "jam_iklan_baru = 6\n",
        "\n",
        "# Prediksi jumlah buku terjual\n",
        "prediksi_buku_terjual = a + b * jam_iklan_baru\n",
        "print(f'Prediksi Buku Terjual untuk {jam_iklan_baru} jam iklan: {prediksi_buku_terjual}')"
      ],
      "metadata": {
        "colab": {
          "base_uri": "https://localhost:8080/"
        },
        "id": "86OFzNypRlV5",
        "outputId": "250c396c-aea1-4d44-d635-a48796936829"
      },
      "execution_count": null,
      "outputs": [
        {
          "output_type": "stream",
          "name": "stdout",
          "text": [
            "Prediksi Buku Terjual untuk 6 jam iklan: 16.5\n"
          ]
        }
      ]
    },
    {
      "cell_type": "markdown",
      "source": [
        "Visualisasi"
      ],
      "metadata": {
        "id": "FeZuGNFMR595"
      }
    },
    {
      "cell_type": "code",
      "source": [
        "# Visualisasi\n",
        "plt.scatter(x, y, label='Data Aktual')\n",
        "plt.plot(x, a + b * x, color='red', label='Garis Regresi')\n",
        "plt.xlabel('Jumlah Iklan')\n",
        "plt.ylabel('Buku Terjual')\n",
        "plt.title('Hubungan Jumlah Iklan dan Buku Terjual')\n",
        "plt.legend()\n",
        "plt.grid(True)\n",
        "plt.show()"
      ],
      "metadata": {
        "colab": {
          "base_uri": "https://localhost:8080/",
          "height": 472
        },
        "id": "h-Dvr8kbnJud",
        "outputId": "c1aced9f-5427-43ed-d63a-12e2f4b43adc"
      },
      "execution_count": null,
      "outputs": [
        {
          "output_type": "display_data",
          "data": {
            "text/plain": [
              "<Figure size 640x480 with 1 Axes>"
            ],
            "image/png": "[encoded data removed]"
          },
          "metadata": {}
        }
      ]
    }
  ]
}