{
  "nbformat": 4,
  "nbformat_minor": 0,
  "metadata": {
    "colab": {
      "provenance": [],
      "authorship_tag": "ABX9TyMlHZ7ea3yNf0VH3gs6/Eyu",
      "include_colab_link": true
    },
    "kernelspec": {
      "name": "python3",
      "display_name": "Python 3"
    },
    "language_info": {
      "name": "python"
    }
  },
  "cells": [
    {
      "cell_type": "markdown",
      "metadata": {
        "id": "view-in-github",
        "colab_type": "text"
      },
      "source": [
        "<a href=\"https://colab.research.google.com/github/adnanfathoni88/numerical_methods/blob/main/PIAS.ipynb\" target=\"_parent\"><img src=\"https://colab.research.google.com/assets/colab-badge.svg\" alt=\"Open In Colab\"/></a>"
      ]
    },
    {
      "cell_type": "markdown",
      "source": [
        "Nama: Adnan Fathoni <br>\n",
        "Kelas: IF10 <br>\n",
        "NIM: 24.21.1591 <br>\n",
        "\n",
        "https://colab.research.google.com/drive/1BB59ig8zKiMSa8k-5PGdx48RC_AZZE76?usp=sharing\n"
      ],
      "metadata": {
        "id": "xxr-6rOi1kfM"
      }
    },
    {
      "cell_type": "markdown",
      "source": [
        "# Metode PIAS: Trapezoidal Rule"
      ],
      "metadata": {
        "id": "sNso9XPOziwM"
      }
    },
    {
      "cell_type": "code",
      "execution_count": null,
      "metadata": {
        "colab": {
          "base_uri": "https://localhost:8080/"
        },
        "id": "3u72C8vix6Vt",
        "outputId": "6311694b-9f2f-4a22-b04d-d8129ffc1b08"
      },
      "outputs": [
        {
          "output_type": "stream",
          "name": "stdout",
          "text": [
            "Integral menggunakan metode Trapezoidal Rule adalah: 5.7634500000000015\n"
          ]
        }
      ],
      "source": [
        "import numpy as np\n",
        "\n",
        "# Metode Trapezoidal Rule dengan pembagian equispaced dan input titik\n",
        "def trapezoidal_rule(x, y):\n",
        "    \"\"\"\n",
        "    Menghitung integral menggunakan metode Trapezoidal Rule.\n",
        "    :param x: array titik-titik pembagi (equispaced).\n",
        "    :param y: array nilai fungsi pada titik-titik tersebut.\n",
        "    :return: nilai integral.\n",
        "    \"\"\"\n",
        "    n = len(x)  # jumlah titik (jumlah subinterval + 1)\n",
        "    if n < 2:\n",
        "        raise ValueError(\"Array x dan y harus memiliki setidaknya dua elemen.\")\n",
        "    if len(x) != len(y):\n",
        "        raise ValueError(\"Array x dan y harus memiliki panjang yang sama.\")\n",
        "\n",
        "    # Menghitung integral menggunakan rumus Trapezoidal Rule\n",
        "    h = x[1] - x[0]  # Asumsi titik-titik equispaced\n",
        "    integral = (y[0] + y[-1] + 2 * np.sum(y[1:-1])) * h / 2\n",
        "    return integral\n",
        "\n",
        "# Titik-titik pembagi\n",
        "x = np.array([1, 1.3, 1.6, 1.9, 2.2, 2.5, 2.8])\n",
        "# Nilai fungsi\n",
        "y = np.array([1.449, 2.06, 2.645, 3.216, 3.779, 4.338, 4.898])\n",
        "\n",
        "# Menghitung integral\n",
        "result = trapezoidal_rule(x, y)\n",
        "\n",
        "# Menampilkan hasil\n",
        "print(f\"Integral menggunakan metode Trapezoidal Rule adalah: {result}\")"
      ]
    },
    {
      "cell_type": "markdown",
      "source": [
        "# Metode PIAS: Midpoint Rule"
      ],
      "metadata": {
        "id": "SBynSi1Dzm5D"
      }
    },
    {
      "cell_type": "code",
      "source": [
        "import numpy as np\n",
        "\n",
        "# Metode Midpoint Rule dengan pembagian equispaced dan input titik\n",
        "def midpoint_rule(x, y):\n",
        "    \"\"\"\n",
        "    Menghitung integral menggunakan metode Midpoint Rule.\n",
        "    :param x: array titik-titik pembagi (equispaced).\n",
        "    :param y: array nilai fungsi pada titik-titik tersebut.\n",
        "    :return: nilai integral.\n",
        "    \"\"\"\n",
        "    n = len(x)  # Jumlah titik (jumlah subinterval + 1)\n",
        "    if n < 2:\n",
        "        raise ValueError(\"Array x dan y harus memiliki setidaknya dua elemen.\")\n",
        "    if len(x) != len(y):\n",
        "        raise ValueError(\"Array x dan y harus memiliki panjang yang sama.\")\n",
        "\n",
        "    # Menghitung integral menggunakan rumus Midpoint Rule\n",
        "    integral = 0\n",
        "    for i in range(n - 1):\n",
        "        # Menghitung titik tengah (midpoint) antara x[i] dan x[i+1]\n",
        "        midpoint = (x[i] + x[i+1]) / 2\n",
        "        # Menambahkan kontribusi area berdasarkan fungsi interpolasi pada midpoint\n",
        "        integral += (x[i+1] - x[i]) * np.interp(midpoint, x, y)\n",
        "    return integral\n",
        "\n",
        "# Contoh penggunaan\n",
        "# Input titik-titik pembagi secara manual (x) dan nilai fungsi pada titik-titik tersebut (y)\n",
        "x = np.array([1, 1.3, 1.6, 1.9, 2.2, 2.5, 2.8])  # Titik-titik pembagi\n",
        "y = np.array([1.449, 2.06, 2.645, 3.216, 3.779, 4.338, 4.898])  # Nilai fungsi pada titik-titik tersebut\n",
        "\n",
        "# Menghitung integral\n",
        "result = midpoint_rule(x, y)\n",
        "\n",
        "# Menampilkan hasil\n",
        "print(f\"Integral menggunakan metode Midpoint Rule adalah: {result}\")"
      ],
      "metadata": {
        "colab": {
          "base_uri": "https://localhost:8080/"
        },
        "id": "MzPZyC9pzDTr",
        "outputId": "09e80b30-764a-44d0-f859-715eafc1338f"
      },
      "execution_count": null,
      "outputs": [
        {
          "output_type": "stream",
          "name": "stdout",
          "text": [
            "Integral menggunakan metode Midpoint Rule adalah: 5.763449999999999\n"
          ]
        }
      ]
    },
    {
      "cell_type": "markdown",
      "source": [
        "# Metode PIAS: Simphson 1/3 (Parabolic Rule)"
      ],
      "metadata": {
        "id": "VE2pBCLqz14k"
      }
    },
    {
      "cell_type": "code",
      "source": [
        "import numpy as np\n",
        "\n",
        "# Metode Simpson 1/3 Rule dengan pembagian equispaced dan input titik\n",
        "def simpson_rule_1_3(x, y):\n",
        "    \"\"\"\n",
        "    Menghitung integral menggunakan metode Simpson 1/3 Rule.\n",
        "    :param x: array titik-titik pembagi (equispaced).\n",
        "    :param y: array nilai fungsi pada titik-titik tersebut.\n",
        "    :return: nilai integral.\n",
        "    \"\"\"\n",
        "    n = len(x)  # Jumlah titik (jumlah subinterval + 1)\n",
        "    if n % 2 == 0:\n",
        "        raise ValueError(\"Jumlah titik harus ganjil untuk Simpson 1/3 Rule!\")\n",
        "\n",
        "    # Menghitung integral menggunakan rumus Simpson 1/3 Rule\n",
        "    h = (x[1] - x[0])  # Lebar subinterval (asumsi equispaced)\n",
        "    integral = y[0] + y[-1]  # Mengambil nilai fungsi pada titik awal dan akhir\n",
        "\n",
        "    # Menambahkan kontribusi koefisien 4 untuk titik-titik ganjil\n",
        "    for i in range(1, n - 1, 2):\n",
        "        integral += 4 * y[i]\n",
        "\n",
        "    # Menambahkan kontribusi koefisien 2 untuk titik-titik genap\n",
        "    for i in range(2, n - 1, 2):\n",
        "        integral += 2 * y[i]\n",
        "\n",
        "    integral *= h / 3  # Mengalikan dengan lebar subinterval dibagi 3\n",
        "    return integral\n",
        "\n",
        "# Contoh penggunaan\n",
        "# Input titik-titik pembagi secara manual (x) dan nilai fungsi pada titik-titik tersebut (y)\n",
        "x = np.array([1, 1.3, 1.6, 1.9, 2.2, 2.5, 2.8])  # Titik-titik pembagi\n",
        "y = np.array([1.449, 2.06, 2.645, 3.216, 3.779, 4.338, 4.898])  # Nilai fungsi pada titik-titik tersebut\n",
        "\n",
        "# Menghitung integral\n",
        "result = simpson_rule_1_3(x, y)\n",
        "\n",
        "# Menampilkan hasil\n",
        "print(f\"Integral menggunakan metode Simpson 1/3 Rule adalah: {result}\")\n"
      ],
      "metadata": {
        "colab": {
          "base_uri": "https://localhost:8080/"
        },
        "id": "t1lyJXE5zcrs",
        "outputId": "eddb039e-9b97-4a7a-9c8b-68d5a4dcad6c"
      },
      "execution_count": null,
      "outputs": [
        {
          "output_type": "stream",
          "name": "stdout",
          "text": [
            "Integral menggunakan metode Simpson 1/3 Rule adalah: 5.7651\n"
          ]
        }
      ]
    },
    {
      "cell_type": "markdown",
      "source": [
        "# KESIMPULAN"
      ],
      "metadata": {
        "id": "zRdFYTFU0a-D"
      }
    },
    {
      "cell_type": "markdown",
      "source": [
        "**Kesimpulan Metode Numerik untuk Integral** <BR>\n",
        "1. **Trapezoidal Rule** <BR> Menghitung integral dengan pendekatan trapesium. Mudah diimplementasikan tetapi kurang akurat untuk fungsi melengkung.\n",
        "<BR> **PRINSIP KERJA**: Mengaproksimasi integral dengan membagi area di bawah kurva menjadi beberapa trapesium.\n",
        "\n",
        "2. **Midpoint Rule** <BR> Menggunakan nilai fungsi di titik tengah setiap interval untuk menghitung integral. Lebih akurat dibanding Trapezoidal Rule, tetapi membutuhkan interpolasi tambahan. <br> **Prinsip**: Mengaproksimasi integral dengan menggunakan nilai fungsi pada titik tengah setiap subinterval untuk menghitung luas persegi panjang\n",
        "\n",
        "3. **Simpson 1/3 Rule** <BR> Menggunakan pendekatan parabola untuk menghitung integral. Paling akurat di antara ketiganya, tetapi memerlukan jumlah titik ganjil. <br> **Prinsip**: Mengaproksimasi integral dengan membagi area di bawah kurva menjadi beberapa segmen parabola.\n"
      ],
      "metadata": {
        "id": "0FbIY_8o0dfb"
      }
    }
  ]
}