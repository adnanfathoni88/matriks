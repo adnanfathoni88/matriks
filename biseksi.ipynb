{
  "nbformat": 4,
  "nbformat_minor": 0,
  "metadata": {
    "colab": {
      "provenance": []
    },
    "kernelspec": {
      "name": "python3",
      "display_name": "Python 3"
    },
    "language_info": {
      "name": "python"
    }
  },
  "cells": [
    {
      "cell_type": "markdown",
      "source": [
        "Nama : Adnan Fathoni <br>\n",
        "kelas : IF 10 <br>\n",
        "NIM : 24.21.1591 <br>\n",
        "\n",
        "https://colab.research.google.com/drive/1U8_H7fI6WVuTdAxu0EndB5_vdpbUhwbC?usp=sharing\n"
      ],
      "metadata": {
        "id": "xxf3fADMOb86"
      }
    },
    {
      "cell_type": "code",
      "execution_count": null,
      "metadata": {
        "colab": {
          "base_uri": "https://localhost:8080/"
        },
        "id": "XKCCHDCCJGye",
        "outputId": "231ef1d1-3d09-4db9-8c3d-008dfbceaef0"
      },
      "outputs": [
        {
          "output_type": "stream",
          "name": "stdout",
          "text": [
            "x0: 2\n",
            "x1: 2.5\n",
            "Toleransi Error: 0.001\n",
            "\n",
            "\n",
            "*** METODE BISEKSI ***\n",
            "Iterasi-1, x2 = 2.250000 dan f(x2) = 0.765625\n",
            "Iterasi-2, x2 = 2.125000 dan f(x2) = -0.185547\n",
            "Iterasi-3, x2 = 2.187500 dan f(x2) = 0.272217\n",
            "Iterasi-4, x2 = 2.156250 dan f(x2) = 0.038971\n",
            "Iterasi-5, x2 = 2.140625 dan f(x2) = -0.074368\n",
            "Iterasi-6, x2 = 2.148438 dan f(x2) = -0.017970\n",
            "Iterasi-7, x2 = 2.152344 dan f(x2) = 0.010433\n",
            "Iterasi-8, x2 = 2.150391 dan f(x2) = -0.003785\n",
            "Iterasi-9, x2 = 2.151367 dan f(x2) = 0.003319\n",
            "Iterasi-10, x2 = 2.150879 dan f(x2) = -0.000234\n",
            "\n",
            "Nilai akar: 2.15087891\n"
          ]
        }
      ],
      "source": [
        "# fungsi x\n",
        "def f(x):\n",
        "    return (x*x*x)-(2*x*x)+(2*x)-5\n",
        "\n",
        "# metode biseksi\n",
        "def bisection(x0, x1, e):\n",
        "  step = 1\n",
        "  print('\\n\\n*** METODE BISEKSI ***')\n",
        "  condition = True\n",
        "  while condition:\n",
        "\n",
        "    # rumus biseksi\n",
        "    x2 = (x0 + x1) / 2\n",
        "    print('Iterasi-%d, x2 = %0.6f dan f(x2) = %0.6f' % (step, x2, f(x2)))\n",
        "\n",
        "    if (f(x0) * f(x2) < 0):\n",
        "      x1 = x2\n",
        "    else:\n",
        "      x0 = x2\n",
        "\n",
        "    step = step + 1\n",
        "    condition = abs(f(x2)) > e\n",
        "\n",
        "  print('\\nNilai akar: %0.8f' % x2)\n",
        "\n",
        "# input nilai tebakan dan toleransi error\n",
        "x0 = input('x0: ')\n",
        "x1 = input('x1: ')\n",
        "e = input('Toleransi Error: ')\n",
        "\n",
        "# konversii input (string -> float)\n",
        "x0 = float(x0)\n",
        "x1 = float(x1)\n",
        "e = float(e)\n",
        "\n",
        "# cek nilai tebakan apakah masuk di PNL\n",
        "if (f(x0) * f(x1) > 0.0):\n",
        "  print('Nilai tebakan salah')\n",
        "  print('Silahkan mencoba lagi')\n",
        "else:\n",
        "  bisection(x0, x1, e)"
      ]
    },
    {
      "cell_type": "code",
      "source": [
        "import numpy as np\n",
        "import matplotlib.pyplot as plt\n",
        "\n",
        "# Definisikan fungsi f(x) = x\"3 - 2x\"2 + 2x - 5\n",
        "def f(x):\n",
        "  return (x*x*x)-(2*x*x)+(2*x)-5\n",
        "\n",
        "# rentan x untuk plot\n",
        "x = np.linspace(0, 6, 400)\n",
        "\n",
        "# Plot fungsi f(x)\n",
        "y = f(x)\n",
        "\n",
        "# plot fungsi f(x)\n",
        "plt.figure(figsize=(8, 6))\n",
        "plt.plot(x, y, label=r'$x^3 - 4x^2 + 6x -24 = 0$', color='b')\n",
        "\n",
        "# tambahkan garis horizontal\n",
        "plt.axhline(y=0, color='k', linestyle='--')\n",
        "\n",
        "# tambahkan garis vertikal\n",
        "plt.axvline(x=0, color='k', linestyle='--')\n",
        "\n",
        "# tambahkan legenda\n",
        "plt.xlabel('x')\n",
        "plt.ylabel('f(x)')\n",
        "plt.title('Grafik Fungsi f(x)')\n",
        "plt.legend()\n",
        "plt.grid(True)\n",
        "\n",
        "# tampilkan plot\n",
        "plt.show()\n",
        "\n"
      ],
      "metadata": {
        "colab": {
          "base_uri": "https://localhost:8080/",
          "height": 584
        },
        "id": "MGYsaoGoLxYi",
        "outputId": "38f4b430-f1a7-414d-9a53-1c85ed4f641b"
      },
      "execution_count": null,
      "outputs": [
        {
          "output_type": "display_data",
          "data": {
            "text/plain": [
              "<Figure size 800x600 with 1 Axes>"
            ],
            "image/png": "[encoded data removed]"
          },
          "metadata": {}
        }
      ]
    },
    {
      "cell_type": "markdown",
      "source": [
        "**SOAL 1** <br>\n",
        "Dengan inputan dinamis"
      ],
      "metadata": {
        "id": "ZXTbvNfzRZaJ"
      }
    },
    {
      "cell_type": "code",
      "source": [
        "# Fungsi untuk menghitung f(x) berdasarkan input persamaan\n",
        "def f(x, equation):\n",
        "    return eval(equation)\n",
        "\n",
        "# Metode biseksi\n",
        "def bisection(x0, x1, e, equation):\n",
        "    step = 1\n",
        "    print('\\n\\n*** METODE BISEKSI ***')\n",
        "    condition = True\n",
        "    while condition:\n",
        "        # Rumus biseksi\n",
        "        x2 = (x0 + x1) / 2\n",
        "        print('Iterasi-%d, x2 = %0.6f dan f(x2) = %0.6f' % (step, x2, f(x2, equation)))\n",
        "\n",
        "        if (f(x0, equation) * f(x2, equation) < 0):\n",
        "            x1 = x2\n",
        "        else:\n",
        "            x0 = x2\n",
        "\n",
        "        step += 1\n",
        "        condition = abs(f(x2, equation)) > e\n",
        "\n",
        "    print('\\nNilai akar: %0.8f' % x2)\n",
        "\n",
        "# Input persamaan dari pengguna\n",
        "equation = input(\"Masukkan persamaan (gunakan 'x' sebagai variabel, misalnya: x**3 - 2*x**2 + 2*x - 5): \")\n",
        "\n",
        "# Input nilai tebakan dan toleransi error\n",
        "x0 = float(input('x0: '))\n",
        "x1 = float(input('x1: '))\n",
        "e = float(input('Toleransi Error: '))\n",
        "\n",
        "# Cek nilai tebakan apakah masuk di PNL\n",
        "if (f(x0, equation) * f(x1, equation) > 0.0):\n",
        "    print('Nilai tebakan salah')\n",
        "    print('Silahkan mencoba lagi')\n",
        "else:\n",
        "    bisection(x0, x1, e, equation)\n"
      ],
      "metadata": {
        "colab": {
          "base_uri": "https://localhost:8080/",
          "height": 0
        },
        "id": "RQBRGPEhRY64",
        "outputId": "fea7ff51-f65c-483e-ccca-9c8552473c56"
      },
      "execution_count": 31,
      "outputs": [
        {
          "output_type": "stream",
          "name": "stdout",
          "text": [
            "Masukkan persamaan (gunakan 'x' sebagai variabel, misalnya: x**3 - 2*x**2 + 2*x - 5): x**3 - 2*x**2 + 2*x - 5\n",
            "x0: 2\n",
            "x1: 2.5\n",
            "Toleransi Error: 0.008\n",
            "\n",
            "\n",
            "*** METODE BISEKSI ***\n",
            "Iterasi-1, x2 = 2.250000 dan f(x2) = 0.765625\n",
            "Iterasi-2, x2 = 2.125000 dan f(x2) = -0.185547\n",
            "Iterasi-3, x2 = 2.187500 dan f(x2) = 0.272217\n",
            "Iterasi-4, x2 = 2.156250 dan f(x2) = 0.038971\n",
            "Iterasi-5, x2 = 2.140625 dan f(x2) = -0.074368\n",
            "Iterasi-6, x2 = 2.148438 dan f(x2) = -0.017970\n",
            "Iterasi-7, x2 = 2.152344 dan f(x2) = 0.010433\n",
            "Iterasi-8, x2 = 2.150391 dan f(x2) = -0.003785\n",
            "\n",
            "Nilai akar: 2.15039062\n"
          ]
        }
      ]
    },
    {
      "cell_type": "markdown",
      "source": [],
      "metadata": {
        "id": "yubphCWHXrR4"
      }
    }
  ]
}