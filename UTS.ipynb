{
  "nbformat": 4,
  "nbformat_minor": 0,
  "metadata": {
    "colab": {
      "provenance": [],
      "authorship_tag": "ABX9TyN2KCvMU7OoE2bOFIbhKpUB",
      "include_colab_link": true
    },
    "kernelspec": {
      "name": "python3",
      "display_name": "Python 3"
    },
    "language_info": {
      "name": "python"
    }
  },
  "cells": [
    {
      "cell_type": "markdown",
      "metadata": {
        "id": "view-in-github",
        "colab_type": "text"
      },
      "source": [
        "<a href=\"https://colab.research.google.com/github/adnanfathoni88/numerical_methods/blob/main/UTS.ipynb\" target=\"_parent\"><img src=\"https://colab.research.google.com/assets/colab-badge.svg\" alt=\"Open In Colab\"/></a>"
      ]
    },
    {
      "cell_type": "markdown",
      "source": [
        "**JAWABAN UTS** <br>\n",
        "Nama : Adnan Fathoni <br>\n",
        "Kelas : IF10 <br>\n",
        "NIM : 24.21.1591 <br>\n",
        "\n",
        "LINK:\n",
        "https://colab.research.google.com/drive/14gZ9dCOXXn-Ax1wSIUCIoyjW-4KUFkgP?usp=sharing\n"
      ],
      "metadata": {
        "id": "KfTOpVGxXnmy"
      }
    },
    {
      "cell_type": "markdown",
      "source": [
        "#1"
      ],
      "metadata": {
        "id": "mt3XV0HLXsm7"
      }
    },
    {
      "cell_type": "markdown",
      "source": [
        "Manfaat metode numerik dalam bidang sains dan teknik antara lain:\n",
        "\n",
        "\n",
        "1.   Memecahkan persamaan matematika yang tidak dapat diselesaikan secara analitis.\n",
        "2.       Menganalisis masalah yang kompleks dengan model matematika.\n",
        "3. Meningkatkan akurasi dan efisiensi perhitungan dalam simulasi dan eksperimen.\n",
        "4. Membantu optimasi desain dalam rekayasa teknik\n",
        "5. Menyediakan solusi untuk masalah yang melibatkan data besar atau variabel yang sangat kompleks."
      ],
      "metadata": {
        "id": "8Js7y-BrXvIw"
      }
    },
    {
      "cell_type": "markdown",
      "source": [
        "#2"
      ],
      "metadata": {
        "id": "4lQQeTnjYAaB"
      }
    },
    {
      "cell_type": "markdown",
      "source": [
        "a. Bentuk Persamaan\n",
        "\n",
        "x + y + z = 150 <br>\n",
        "        y = 2z <br>\n",
        "        x = z + 30"
      ],
      "metadata": {
        "id": "s60qm8RiY1Sy"
      }
    },
    {
      "cell_type": "markdown",
      "source": [
        "b. LU"
      ],
      "metadata": {
        "id": "QriPx6zIZJ6p"
      }
    },
    {
      "cell_type": "code",
      "source": [
        "import numpy as np\n",
        "\n",
        "def lu_decomposition(A):\n",
        "    n = A.shape[0]\n",
        "    L = np.zeros_like(A, dtype=np.float64)\n",
        "    U = np.zeros_like(A, dtype=np.float64)\n",
        "\n",
        "    for i in range(n):\n",
        "        # Mengisi elemen U\n",
        "        for k in range(i, n):\n",
        "            U[i, k] = A[i, k] - sum(L[i, j] * U[j, k] for j in range(i))\n",
        "\n",
        "        # Mengisi elemen L\n",
        "        for k in range(i, n):\n",
        "            if k == i:\n",
        "                L[i, i] = 1  # Elemen diagonal L harus 1\n",
        "            else:\n",
        "                L[k, i] = (A[k, i] - sum(L[k, j] * U[j, i] for j in range(i))) / U[i, i]\n",
        "\n",
        "    return L, U\n",
        "\n",
        "def forward_substitution(L, b):\n",
        "    \"\"\"Menyelesaikan Ly = b (proses substitusi maju)\"\"\"\n",
        "    n = L.shape[0]\n",
        "    y = np.zeros_like(b, dtype=np.float64)\n",
        "\n",
        "    for i in range(n):\n",
        "        y[i] = (b[i] - sum(L[i, j] * y[j] for j in range(i))) / L[i, i]\n",
        "\n",
        "    return y\n",
        "\n",
        "def backward_substitution(U, y):\n",
        "    \"\"\"Menyelesaikan Ux = y (proses substitusi mundur)\"\"\"\n",
        "    n = U.shape[0]\n",
        "    x = np.zeros_like(y, dtype=np.float64)\n",
        "\n",
        "    for i in range(n - 1, -1, -1):\n",
        "        x[i] = (y[i] - sum(U[i, j] * x[j] for j in range(i + 1, n))) / U[i, i]\n",
        "\n",
        "    return x\n",
        "\n",
        "def lu_solve(A, b):\n",
        "    \"\"\"Menyelesaikan sistem persamaan Ax = b menggunakan dekomposisi LU\"\"\"\n",
        "    L, U = lu_decomposition(A)\n",
        "    y = forward_substitution(L, b)\n",
        "    x = backward_substitution(U, y)\n",
        "    return x\n",
        "\n",
        "# fungsi cetak u\n",
        "def u_print():\n",
        "  print(\"Matriks U:\")\n",
        "  print(U)\n",
        "\n",
        "# fungsi cetak l\n",
        "def l_print():\n",
        "  print(\"Matriks L:\")\n",
        "  print(L)\n",
        "\n",
        "# Contoh\n",
        "A = np.array([[1, 1, 1],\n",
        "              [0, 1, -2],\n",
        "              [1, 0, -1]], dtype=np.float64)\n",
        "\n",
        "b = np.array([150, 0, 30], dtype=np.float64)\n",
        "\n",
        "# Menyelesaikan Ax = b\n",
        "x = lu_solve(A, b)\n",
        "print(\"Solusi dari sistem persamaan:\")\n",
        "print(x)\n",
        "\n",
        "L, U = lu_decomposition(A)\n",
        "print(\"\")\n",
        "u_print()\n",
        "print(\"\")\n",
        "l_print()"
      ],
      "metadata": {
        "colab": {
          "base_uri": "https://localhost:8080/"
        },
        "id": "WUMDMeMZZI-J",
        "outputId": "941cd874-a3db-47d3-d1be-9a019b7e0665"
      },
      "execution_count": null,
      "outputs": [
        {
          "output_type": "stream",
          "name": "stdout",
          "text": [
            "Solusi dari sistem persamaan:\n",
            "[60. 60. 30.]\n",
            "\n",
            "Matriks U:\n",
            "[[ 1.  1.  1.]\n",
            " [ 0.  1. -2.]\n",
            " [ 0.  0. -4.]]\n",
            "\n",
            "Matriks L:\n",
            "[[ 1.  0.  0.]\n",
            " [ 0.  1.  0.]\n",
            " [ 1. -1.  1.]]\n"
          ]
        }
      ]
    },
    {
      "cell_type": "markdown",
      "source": [
        "Jadi Komputer dekstop 60 unit, laptop 60 unit, tablet 30 unit"
      ],
      "metadata": {
        "id": "xAbdG1-ubeaQ"
      }
    },
    {
      "cell_type": "markdown",
      "source": [
        "#3"
      ],
      "metadata": {
        "id": "tQU5XE2Wbtg5"
      }
    },
    {
      "cell_type": "markdown",
      "source": [
        "gauss Jacobi"
      ],
      "metadata": {
        "id": "xpYfqPx0jWwQ"
      }
    },
    {
      "cell_type": "code",
      "source": [
        "# 4x + y + z = 6\n",
        "# x + 4y + z = 8\n",
        "# x + y + 4z = 6\n",
        "\n",
        "f1 = lambda x, y, z: (6 - y - z) / 4\n",
        "f2 = lambda x, y, z: (8 -x - z) / 4\n",
        "f3 = lambda x, y, z: (6 - x - y) / 4\n",
        "\n",
        "# Inisialisasi nilai awal\n",
        "x0 = 0\n",
        "y0 = 0\n",
        "z0 = 0\n",
        "count = 1\n",
        "# input\n",
        "e = float(input('Enter tolerable error: '))\n",
        "# Print header\n",
        "print('\\nCount\\tx\\ty\\tz\\n')\n",
        "condition = True\n",
        "while condition:\n",
        "    x1 = f1(x0,y0,z0)\n",
        "    y1 = f2(x0,y0,z0)\n",
        "    z1 = f3(x0,y0,z0)\n",
        "    print('%d\\t%0.4f\\t%0.4f\\t%0.4f\\n' %(count, x1,y1,z1))\n",
        "    e1 = abs(x0-x1);\n",
        "    e2 = abs(y0-y1);\n",
        "    e3 = abs(z0-z1);\n",
        "\n",
        "    #update nilai\n",
        "    count += 1\n",
        "    x0 = x1\n",
        "    y0 = y1\n",
        "    z0 = z1\n",
        "    condition = e1>e and e2>e and e3>e\n",
        "print('\\nSolution: x=%0.3f, y=%0.3f and z = %0.3f\\n'% (x1,y1,z1))"
      ],
      "metadata": {
        "colab": {
          "base_uri": "https://localhost:8080/"
        },
        "id": "NLc8U5eib5mR",
        "outputId": "6603526b-bc1d-474a-d18c-f87439454de9"
      },
      "execution_count": null,
      "outputs": [
        {
          "output_type": "stream",
          "name": "stdout",
          "text": [
            "Enter tolerable error: 0.001\n",
            "\n",
            "Count\tx\ty\tz\n",
            "\n",
            "1\t1.5000\t2.0000\t1.5000\n",
            "\n",
            "2\t0.6250\t1.2500\t0.6250\n",
            "\n",
            "3\t1.0312\t1.6875\t1.0312\n",
            "\n",
            "4\t0.8203\t1.4844\t0.8203\n",
            "\n",
            "5\t0.9238\t1.5898\t0.9238\n",
            "\n",
            "6\t0.8716\t1.5381\t0.8716\n",
            "\n",
            "7\t0.8976\t1.5642\t0.8976\n",
            "\n",
            "8\t0.8846\t1.5512\t0.8846\n",
            "\n",
            "9\t0.8911\t1.5577\t0.8911\n",
            "\n",
            "10\t0.8878\t1.5545\t0.8878\n",
            "\n",
            "11\t0.8894\t1.5561\t0.8894\n",
            "\n",
            "12\t0.8886\t1.5553\t0.8886\n",
            "\n",
            "\n",
            "Solution: x=0.889, y=1.555 and z = 0.889\n",
            "\n"
          ]
        }
      ]
    },
    {
      "cell_type": "markdown",
      "source": [
        "#4"
      ],
      "metadata": {
        "id": "nTDWHGAAdsaR"
      }
    },
    {
      "cell_type": "markdown",
      "source": [
        "a. Biseksi"
      ],
      "metadata": {
        "id": "gO8vh_k7duKx"
      }
    },
    {
      "cell_type": "code",
      "source": [
        "# fungsi x\n",
        "def f(x):\n",
        "    # x3 + 2x2 – 2x + 2\n",
        "    return (x*x*x)+(2*x*x)-(2*x)+2\n",
        "\n",
        "# metode biseksi\n",
        "def bisection(x0, x1, e):\n",
        "  step = 1\n",
        "  print('\\n\\n*** METODE BISEKSI ***')\n",
        "  condition = True\n",
        "  while condition:\n",
        "\n",
        "    # rumus biseksi\n",
        "    x2 = (x0 + x1) / 2\n",
        "    print('Iterasi-%d, x2 = %0.6f dan f(x2) = %0.6f' % (step, x2, f(x2)))\n",
        "\n",
        "    if (f(x0) * f(x2) < 0):\n",
        "      x1 = x2\n",
        "    else:\n",
        "      x0 = x2\n",
        "\n",
        "    step = step + 1\n",
        "    condition = abs(f(x2)) > e\n",
        "\n",
        "  print('\\nNilai akar: %0.8f' % x2)\n",
        "\n",
        "# input nilai tebakan dan toleransi error\n",
        "x0 = input('x0: ')\n",
        "x1 = input('x1: ')\n",
        "e = input('Toleransi Error: ')\n",
        "\n",
        "# konversii input (string -> float)\n",
        "x0 = float(x0)\n",
        "x1 = float(x1)\n",
        "e = float(e)\n",
        "\n",
        "# cek nilai tebakan apakah masuk di PNL\n",
        "if (f(x0) * f(x1) > 0.0):\n",
        "  print('Nilai tebakan salah')\n",
        "  print('Silahkan mencoba lagi')\n",
        "else:\n",
        "  bisection(x0, x1, e)"
      ],
      "metadata": {
        "colab": {
          "base_uri": "https://localhost:8080/"
        },
        "id": "V_HSof2nd2RY",
        "outputId": "07aa24d1-a275-46eb-edbc-d203caff2c7f"
      },
      "execution_count": null,
      "outputs": [
        {
          "output_type": "stream",
          "name": "stdout",
          "text": [
            "x0: -3\n",
            "x1: -2\n",
            "Toleransi Error: 0.05\n",
            "\n",
            "\n",
            "*** METODE BISEKSI ***\n",
            "Iterasi-1, x2 = -2.500000 dan f(x2) = 3.875000\n",
            "Iterasi-2, x2 = -2.750000 dan f(x2) = 1.828125\n",
            "Iterasi-3, x2 = -2.875000 dan f(x2) = 0.517578\n",
            "Iterasi-4, x2 = -2.937500 dan f(x2) = -0.214600\n",
            "Iterasi-5, x2 = -2.906250 dan f(x2) = 0.158051\n",
            "Iterasi-6, x2 = -2.921875 dan f(x2) = -0.026623\n",
            "\n",
            "Nilai akar: -2.92187500\n"
          ]
        }
      ]
    },
    {
      "cell_type": "markdown",
      "source": [
        "b. Regula Falsi"
      ],
      "metadata": {
        "id": "BhZQOAV0d0iw"
      }
    },
    {
      "cell_type": "code",
      "source": [
        "# x3 + 2x2 – 2x + 2 =0\n",
        "\n",
        "def f(x):\n",
        "    return x**3 + 2*x**2 - 2*x + 2\n",
        "\n",
        "def regula_falsi(x0, x1, e):\n",
        "  step = 1\n",
        "  print('\\n\\n*** METODE REGULA FALSI ***')\n",
        "  condition = True\n",
        "  while condition:\n",
        "    x2 = x0 - (x1-x0) * f(x0) / (f(x1) - f(x0))\n",
        "    print('Iterasi-%d, x2 = %0.6f dan f(x2) = %0.6f' % (step, x2, f(x2)))\n",
        "\n",
        "    if (f(x0) * f(x2) < 0):\n",
        "      x1 = x2\n",
        "    else:\n",
        "      x0 = x2\n",
        "\n",
        "    step = step + 1\n",
        "    condition = abs(f(x2)) > e\n",
        "\n",
        "  print('\\nNilai akar: %0.8f' % x2)\n",
        "\n",
        "# input nilai tebakan dan toleransi error\n",
        "x0 = input('x0: ')\n",
        "x1 = input('x1: ')\n",
        "e = input('Toleransi Error: ')\n",
        "\n",
        "# konversii input (string -> float)\n",
        "x0 = float(x0)\n",
        "x1 = float(x1)\n",
        "e = float(e)\n",
        "\n",
        "# cek nilai tebakan apakah masuk di PNL\n",
        "if (f(x0) * f(x1) > 0.0):\n",
        "  print('Nilai tebakan salah')\n",
        "  print('Silahkan mencoba lagi')\n",
        "else:\n",
        "  regula_falsi(x0, x1, e)"
      ],
      "metadata": {
        "colab": {
          "base_uri": "https://localhost:8080/"
        },
        "id": "84u5mY55hdqa",
        "outputId": "4ec95936-4cff-4f68-aa1c-41494ede5a78"
      },
      "execution_count": null,
      "outputs": [
        {
          "output_type": "stream",
          "name": "stdout",
          "text": [
            "x0: -3\n",
            "x1: -2\n",
            "Toleransi Error: 0.05\n",
            "\n",
            "\n",
            "*** METODE REGULA FALSI ***\n",
            "Iterasi-1, x2 = -2.857143 dan f(x2) = 0.717201\n",
            "Iterasi-2, x2 = -2.916808 dan f(x2) = 0.033624\n",
            "\n",
            "Nilai akar: -2.91680815\n"
          ]
        }
      ]
    }
  ]
}